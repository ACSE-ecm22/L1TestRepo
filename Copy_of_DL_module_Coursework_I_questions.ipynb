{
  "nbformat": 4,
  "nbformat_minor": 0,
  "metadata": {
    "colab": {
      "provenance": [],
      "include_colab_link": true
    },
    "kernelspec": {
      "name": "python3",
      "display_name": "Python 3"
    },
    "language_info": {
      "name": "python"
    },
    "gpuClass": "premium",
    "accelerator": "GPU"
  },
  "cells": [
    {
      "cell_type": "markdown",
      "metadata": {
        "id": "view-in-github",
        "colab_type": "text"
      },
      "source": [
        "<a href=\"https://colab.research.google.com/github/ACSE-ecm22/L1TestRepo/blob/main/Copy_of_DL_module_Coursework_I_questions.ipynb\" target=\"_parent\"><img src=\"https://colab.research.google.com/assets/colab-badge.svg\" alt=\"Open In Colab\"/></a>"
      ]
    },
    {
      "cell_type": "markdown",
      "source": [
        "<img src=\"https://drive.google.com/uc?id=1dFgNX9iQUfmBOdmUN2-H8rPxL3SLXmxn\" width=\"400\"/>\n",
        "\n",
        "\n",
        "---\n"
      ],
      "metadata": {
        "id": "9YehS8enAmDn"
      }
    },
    {
      "cell_type": "markdown",
      "source": [
        "### ***Name***: [*your name goes here*]\n",
        "### ***CID***: [*your CID goes here*]"
      ],
      "metadata": {
        "id": "gD4VUfPGx8Oy"
      }
    },
    {
      "cell_type": "markdown",
      "source": [
        "# Instructions:\n",
        "\n",
        "Follow the instructions below to complete the coursework and submit it:\n",
        "\n",
        "<br>\n",
        "\n",
        "1. Complete your coursework using this provided Jupyter Notebook template (use Google Colab or your local machine if it has a GPU and/or sufficient computational power). Your copy of the notebook should be named: `yourusername_coursework_I.ipynb`. And don't forget to fill in the two fields at the top of this notebook with your name and CID.\n",
        "\n",
        "<br>\n",
        "\n",
        "2. Once you have completed your answers, upload your final notebook to the repo you got from the github classroom link. Make sure to have all the answers in there:\n",
        "\n",
        "   - **All the cells in your final Jupyter Notebook should be executed before saving and uploading to github in order to have the output of the cells available in the uploaded version** (images you plot, training graphs generated with `livelossplot`, etc). We will not rerun code blocks in the notebooks, it is your responsibility to run them before uploading the notebook.\n",
        "\n",
        "   - Add comments in the code to explain what you are doing at every step. \n",
        "\n",
        "   - All answers requiring written answers (ie, not code) should be in markdown blocks in the Jupyter Notebook. This provided Jupyter Notebook template has allocated blocks for the questions, but **you can add any coding or markdown blocks you need**.\n",
        "\n",
        "<br>\n",
        "\n",
        "3. The coursework is released on **Friday 9 December at 14:00h UK time**, and the answers have to be submitted on **Monday 12 December, 20:00h UK time**. We will not accept late submissions.\n",
        "\n",
        "<br>\n",
        "\n",
        "<br>\n",
        "\n",
        "### The coursework consists of 5 questions you have to complete. You will find them below. \n",
        "\n",
        "- Questions 2 and 3 are very similar and you have to complete both of them, **you DO NOT have to choose one of them, you have to do them both.**\n",
        "\n",
        "- You can use code seen in class, but indicate clearly when you do, and **make it clear (using comments or markdown blocks) what are your modifications**. This will influence your final marks.\n",
        "\n",
        "- Your final marks will depend both on the quality of your results **AND** the justification, explanation and rationale of your implementations.\n",
        "\n",
        "- Reference any publications and other materials that you use, but keep in mind that **your implementations should be original and not copied from any online resources (we will check for plagiarism)**. It is ok to use other resources to understand concepts and draw inspiration, but always reference them properly in the notebook.\n",
        "\n",
        "- Finally, **justify your answers well, but focus on what the question is asking**. I will penalise lengthy answers that do not have any relation with the question being addressed.\n",
        "\n",
        "<br>\n",
        "\n",
        "---\n",
        "\n",
        "<br>"
      ],
      "metadata": {
        "id": "uRlgsfRcx9sT"
      }
    },
    {
      "cell_type": "markdown",
      "source": [
        "## Imports"
      ],
      "metadata": {
        "id": "KyZTroXCzEop"
      }
    },
    {
      "cell_type": "code",
      "source": [
        "!pip install pycm livelossplot\n",
        "%pylab inline\n",
        "\n",
        "from sklearn.metrics import accuracy_score\n",
        "from sklearn.model_selection import StratifiedShuffleSplit\n",
        "\n",
        "from livelossplot import PlotLosses\n",
        "from pycm import *\n",
        "from tqdm import tqdm\n",
        "import torch\n",
        "import torch.nn as nn\n",
        "import torch.nn.functional as F\n",
        "from torch.utils.data import TensorDataset, DataLoader\n",
        "import torchvision.datasets\n",
        "import torchvision.transforms as transforms\n",
        "from torchvision.datasets import MNIST\n",
        "from torchsummary import summary\n",
        "\n",
        "\n",
        "import matplotlib.pyplot as plt\n",
        "import numpy as np\n",
        "import random"
      ],
      "metadata": {
        "id": "J7r0q-LczFP3",
        "colab": {
          "base_uri": "https://localhost:8080/"
        },
        "outputId": "75479ae2-dc51-4164-cfb8-cd7f4dc44a8d"
      },
      "execution_count": 80,
      "outputs": [
        {
          "output_type": "stream",
          "name": "stdout",
          "text": [
            "Looking in indexes: https://pypi.org/simple, https://us-python.pkg.dev/colab-wheels/public/simple/\n",
            "Requirement already satisfied: pycm in /usr/local/lib/python3.8/dist-packages (3.6)\n",
            "Requirement already satisfied: livelossplot in /usr/local/lib/python3.8/dist-packages (0.5.5)\n",
            "Requirement already satisfied: art>=1.8 in /usr/local/lib/python3.8/dist-packages (from pycm) (5.8)\n",
            "Requirement already satisfied: numpy>=1.9.0 in /usr/local/lib/python3.8/dist-packages (from pycm) (1.21.6)\n",
            "Requirement already satisfied: matplotlib in /usr/local/lib/python3.8/dist-packages (from livelossplot) (3.2.2)\n",
            "Requirement already satisfied: bokeh in /usr/local/lib/python3.8/dist-packages (from livelossplot) (2.3.3)\n",
            "Requirement already satisfied: tornado>=5.1 in /usr/local/lib/python3.8/dist-packages (from bokeh->livelossplot) (6.0.4)\n",
            "Requirement already satisfied: typing-extensions>=3.7.4 in /usr/local/lib/python3.8/dist-packages (from bokeh->livelossplot) (4.4.0)\n",
            "Requirement already satisfied: python-dateutil>=2.1 in /usr/local/lib/python3.8/dist-packages (from bokeh->livelossplot) (2.8.2)\n",
            "Requirement already satisfied: packaging>=16.8 in /usr/local/lib/python3.8/dist-packages (from bokeh->livelossplot) (21.3)\n",
            "Requirement already satisfied: pillow>=7.1.0 in /usr/local/lib/python3.8/dist-packages (from bokeh->livelossplot) (7.1.2)\n",
            "Requirement already satisfied: PyYAML>=3.10 in /usr/local/lib/python3.8/dist-packages (from bokeh->livelossplot) (6.0)\n",
            "Requirement already satisfied: Jinja2>=2.9 in /usr/local/lib/python3.8/dist-packages (from bokeh->livelossplot) (2.11.3)\n",
            "Requirement already satisfied: MarkupSafe>=0.23 in /usr/local/lib/python3.8/dist-packages (from Jinja2>=2.9->bokeh->livelossplot) (2.0.1)\n",
            "Requirement already satisfied: pyparsing!=3.0.5,>=2.0.2 in /usr/local/lib/python3.8/dist-packages (from packaging>=16.8->bokeh->livelossplot) (3.0.9)\n",
            "Requirement already satisfied: six>=1.5 in /usr/local/lib/python3.8/dist-packages (from python-dateutil>=2.1->bokeh->livelossplot) (1.15.0)\n",
            "Requirement already satisfied: kiwisolver>=1.0.1 in /usr/local/lib/python3.8/dist-packages (from matplotlib->livelossplot) (1.4.4)\n",
            "Requirement already satisfied: cycler>=0.10 in /usr/local/lib/python3.8/dist-packages (from matplotlib->livelossplot) (0.11.0)\n",
            "Populating the interactive namespace from numpy and matplotlib\n"
          ]
        },
        {
          "output_type": "stream",
          "name": "stderr",
          "text": [
            "/usr/local/lib/python3.8/dist-packages/IPython/core/magics/pylab.py:159: UserWarning: pylab import has clobbered these variables: ['seed', 'random']\n",
            "`%matplotlib` prevents importing * from pylab and numpy\n",
            "  warn(\"pylab import has clobbered these variables: %s\"  % clobbered +\n"
          ]
        }
      ]
    },
    {
      "cell_type": "code",
      "source": [
        "def set_seed(seed):\n",
        "    \"\"\"\n",
        "    Use this to set ALL the random seeds to a fixed value and take out any randomness from cuda kernels\n",
        "    \"\"\"\n",
        "    random.seed(seed)\n",
        "    np.random.seed(seed)\n",
        "    torch.manual_seed(seed)\n",
        "    torch.cuda.manual_seed_all(seed)\n",
        "\n",
        "    torch.backends.cudnn.benchmark = True  ##uses the inbuilt cudnn auto-tuner to find the fastest convolution algorithms. -\n",
        "    torch.backends.cudnn.enabled   = True\n",
        "\n",
        "    return True\n",
        "\n",
        "\n",
        "def set_device(device=\"cpu\", idx=0):\n",
        "    if device != \"cpu\":\n",
        "        if torch.cuda.device_count() > idx and torch.cuda.is_available():\n",
        "            print(\"Cuda installed! Running on GPU {} {}!\".format(idx, torch.cuda.get_device_name(idx)))\n",
        "            device=\"cuda:{}\".format(idx)\n",
        "        elif torch.cuda.device_count() > 0 and torch.cuda.is_available():\n",
        "            print(\"Cuda installed but only {} GPU(s) available! Running on GPU 0 {}!\".format(torch.cuda.device_count(), torch.cuda.get_device_name()))\n",
        "            device=\"cuda:0\"\n",
        "        else:\n",
        "            device=\"cpu\"\n",
        "            print(\"No GPU available! Running on CPU\")\n",
        "    return device\n",
        "\n",
        "device = set_device(\"cuda\")"
      ],
      "metadata": {
        "colab": {
          "base_uri": "https://localhost:8080/"
        },
        "id": "Cd3VM9jtXWjH",
        "outputId": "faeb9b9c-fdad-4553-867e-527e1fe05e7e"
      },
      "execution_count": 81,
      "outputs": [
        {
          "output_type": "stream",
          "name": "stdout",
          "text": [
            "Cuda installed! Running on GPU 0 A100-SXM4-40GB!\n"
          ]
        }
      ]
    },
    {
      "cell_type": "markdown",
      "source": [
        "<br>\n",
        "\n",
        "---\n",
        "\n",
        "<br>"
      ],
      "metadata": {
        "id": "yT8n0p4T4030"
      }
    },
    {
      "cell_type": "markdown",
      "source": [
        "## **Q1** - Download and prepare the Fashion MNIST dataset [10 points]\n",
        "\n",
        "Get the `FashionMNIST` dataset from `torchvision.datasets`\n",
        "\n",
        "- Inspect the dataset and format the data as you see fit to use it in your next questions. Explain the process you follow.\n",
        "\n",
        "- Plot a matrix of images with 10 examples of each class.\n",
        "\n",
        "- Is the dataset well balanced (does it have similar number of samples for each class)? Generate and present data to support your answer in any form you see fit."
      ],
      "metadata": {
        "id": "mOX2kBs-zHhv"
      }
    },
    {
      "cell_type": "code",
      "source": [
        "device = 'cuda'"
      ],
      "metadata": {
        "id": "AKTl3priF8Gy"
      },
      "execution_count": 82,
      "outputs": []
    },
    {
      "cell_type": "code",
      "source": [
        "transforms = transforms.Compose([transforms.ToTensor(),])\n",
        "                                 #transforms.Normalize(mean=0.5, std=0.5)])"
      ],
      "metadata": {
        "id": "GjhEELBr3_nv"
      },
      "execution_count": 83,
      "outputs": []
    },
    {
      "cell_type": "code",
      "source": [
        "train_dataset = torchvision.datasets.FashionMNIST('./', train=True, transform=transform, download=True)\n",
        "test_dataset = torchvision.datasets.FashionMNIST('./', train=False, transform=transform, download=True)"
      ],
      "metadata": {
        "id": "YOJVXNOtMXof"
      },
      "execution_count": 84,
      "outputs": []
    },
    {
      "cell_type": "code",
      "source": [
        "print(type(train_dataset), \"\\n\")\n",
        "print(train_dataset, \"\\n\")\n",
        "print(dir(train_dataset))"
      ],
      "metadata": {
        "colab": {
          "base_uri": "https://localhost:8080/"
        },
        "id": "Sw4NjkRuW3hA",
        "outputId": "6317ad0f-6fc8-4313-ce17-dd939ba12cb4"
      },
      "execution_count": 85,
      "outputs": [
        {
          "output_type": "stream",
          "name": "stdout",
          "text": [
            "<class 'torchvision.datasets.mnist.FashionMNIST'> \n",
            "\n",
            "Dataset FashionMNIST\n",
            "    Number of datapoints: 60000\n",
            "    Root location: ./\n",
            "    Split: Train\n",
            "    StandardTransform\n",
            "Transform: Compose(\n",
            "               ToTensor()\n",
            "           ) \n",
            "\n",
            "['__add__', '__class__', '__class_getitem__', '__delattr__', '__dict__', '__dir__', '__doc__', '__eq__', '__format__', '__ge__', '__getattribute__', '__getitem__', '__gt__', '__hash__', '__init__', '__init_subclass__', '__le__', '__len__', '__lt__', '__module__', '__ne__', '__new__', '__orig_bases__', '__parameters__', '__reduce__', '__reduce_ex__', '__repr__', '__setattr__', '__sizeof__', '__slots__', '__str__', '__subclasshook__', '__weakref__', '_check_exists', '_check_legacy_exist', '_format_transform_repr', '_is_protocol', '_load_data', '_load_legacy_data', '_repr_indent', 'class_to_idx', 'classes', 'data', 'download', 'extra_repr', 'mirrors', 'processed_folder', 'raw_folder', 'resources', 'root', 'target_transform', 'targets', 'test_data', 'test_file', 'test_labels', 'train', 'train_data', 'train_labels', 'training_file', 'transform', 'transforms']\n"
          ]
        }
      ]
    },
    {
      "cell_type": "code",
      "source": [
        "print(train_dataset[0][0].shape)"
      ],
      "metadata": {
        "colab": {
          "base_uri": "https://localhost:8080/"
        },
        "id": "ckMpOOnX3Ihh",
        "outputId": "a606c8cf-52b3-4162-93df-4f9f432ed92f"
      },
      "execution_count": 86,
      "outputs": [
        {
          "output_type": "stream",
          "name": "stdout",
          "text": [
            "torch.Size([1, 28, 28])\n"
          ]
        }
      ]
    },
    {
      "cell_type": "code",
      "source": [
        "train_dataset.class_to_idx.values()"
      ],
      "metadata": {
        "colab": {
          "base_uri": "https://localhost:8080/"
        },
        "id": "ew___vpe4zFg",
        "outputId": "abe3166a-a1b5-4f98-f11d-160da37ef7f3"
      },
      "execution_count": 87,
      "outputs": [
        {
          "output_type": "execute_result",
          "data": {
            "text/plain": [
              "dict_values([0, 1, 2, 3, 4, 5, 6, 7, 8, 9])"
            ]
          },
          "metadata": {},
          "execution_count": 87
        }
      ]
    },
    {
      "cell_type": "code",
      "source": [
        "# fig, axs = plt.subplots(len(digits), len(digits), figsize=(20,20))\n",
        "# class_to_idx = train_dataset.class_to_idx\n",
        "# print(class_to_idx)\n",
        "\n",
        "# fig, ax = plt.subplots(2,5)\n",
        "# for i, ax in enumerate(ax.flatten()):\n",
        "#     im_idx = np.argwhere(train_dataset.target == i)[0]\n",
        "#     plottable_image = np.reshape(X[im_idx], (28, 28))\n",
        "#     ax.imshow(plottable_image, cmap='gray_r')\n"
      ],
      "metadata": {
        "id": "Wx2ione9k7AB"
      },
      "execution_count": 88,
      "outputs": []
    },
    {
      "cell_type": "code",
      "source": [
        "(train_dataset.class_to_idx.values())"
      ],
      "metadata": {
        "colab": {
          "base_uri": "https://localhost:8080/"
        },
        "id": "vD0b8sl-arn5",
        "outputId": "ba634a98-c6a8-4428-c22d-042834f4f4b2"
      },
      "execution_count": 89,
      "outputs": [
        {
          "output_type": "execute_result",
          "data": {
            "text/plain": [
              "dict_values([0, 1, 2, 3, 4, 5, 6, 7, 8, 9])"
            ]
          },
          "metadata": {},
          "execution_count": 89
        }
      ]
    },
    {
      "cell_type": "markdown",
      "source": [
        "text block for your answers"
      ],
      "metadata": {
        "id": "pFzgfIw53Q6H"
      }
    },
    {
      "cell_type": "code",
      "source": [
        "### you can reuse material from class, but explain very well modifications in the code and why you did them"
      ],
      "metadata": {
        "id": "Sm_XR_gRTjKu"
      },
      "execution_count": 90,
      "outputs": []
    },
    {
      "cell_type": "markdown",
      "source": [
        "text block for your answers"
      ],
      "metadata": {
        "id": "3EYF70z53Yba"
      }
    },
    {
      "cell_type": "markdown",
      "source": [
        "<br>\n",
        "\n",
        "---\n",
        "\n",
        "<br>"
      ],
      "metadata": {
        "id": "NxE9bvBV412w"
      }
    },
    {
      "cell_type": "markdown",
      "source": [
        "## **Q2** - Implement a **conditional VAE** [25 points]\n",
        "\n",
        "Implement a VAE similar to the one we saw in class but with the following modifications:\n",
        "\n",
        "- Your new network should generate samples of any class defined by the user, that is, when you run your decoder, you have to tell it which class you want it to generate. <br> *During the lectures we created a VAE that would generate samples of any class, we did not have control over which class would be generated. The exercise is to modify the network, training loops, and anything else you consider necessary, so that, once is trained, you can generate images of any particular class specified when you run your generative model.*\n",
        "\n",
        "- Expand your network to include **at least two** of the following modifications. Choose them based on what you think will result in better network performance (make sure to justify your choices well, argumenting why did you decide to include your particular modifications):\n",
        "  - Convolutional layers\n",
        "  - Data augmentation \n",
        "  - Different activations\n",
        "  - Different random seed\n",
        "  - Other network modifications that are well justified. <br> *You have freedom to choose what to do here, but your marks will depend not only on the correct implementation but also on the justification of your choices.*\n",
        "\n",
        "- Use your trained conditional VAE to **generate and plot 10 new samples of each class** by adding the class label to your random input (in any form you have implemented it).\n",
        "\n",
        "- You **DO NOT** have to optimise any hyperparameters, but if you had to choose three hyperparameters to optimise:\n",
        "  - Which ones would you choose and why?\n",
        "\n",
        "Generate information of your training process (liveloss plots, or any other data that will help you understand your results and analyse them in the last question **Q4**).\n",
        "\n"
      ],
      "metadata": {
        "id": "9gDJwiiz0BXE"
      }
    },
    {
      "cell_type": "markdown",
      "source": [
        "I will start by creating a dataloader to handle the dataset"
      ],
      "metadata": {
        "id": "b6fLPNO_rTtq"
      }
    },
    {
      "cell_type": "code",
      "source": [
        "train_dataset"
      ],
      "metadata": {
        "colab": {
          "base_uri": "https://localhost:8080/"
        },
        "id": "i37Hcop6s9TN",
        "outputId": "91513f1d-cb15-48cf-c849-53699200fc45"
      },
      "execution_count": 91,
      "outputs": [
        {
          "output_type": "execute_result",
          "data": {
            "text/plain": [
              "Dataset FashionMNIST\n",
              "    Number of datapoints: 60000\n",
              "    Root location: ./\n",
              "    Split: Train\n",
              "    StandardTransform\n",
              "Transform: Compose(\n",
              "               ToTensor()\n",
              "           )"
            ]
          },
          "metadata": {},
          "execution_count": 91
        }
      ]
    },
    {
      "cell_type": "code",
      "source": [
        "# Function source: https://github.com/dyedgreen/conditional-vae/blob/master/cvae.py\n",
        "\n",
        "def idx_to_onehot(idx):\n",
        "    one_hot = torch.zeros(idx.size(0), 10)\n",
        "    for i in range(idx.size(0)):\n",
        "        one_hot[i][idx[i]] = 1\n",
        "    return one_hot"
      ],
      "metadata": {
        "id": "0eKcgCpWeRWX"
      },
      "execution_count": 153,
      "outputs": []
    },
    {
      "cell_type": "code",
      "source": [
        "class VAE_Encoder_Conv(nn.Module): \n",
        "  def __init__(self):\n",
        "    super(VAE_Encoder_Conv, self).__init__()\n",
        "\n",
        "    self.layer1 = nn.Sequential(\n",
        "        nn.Conv2d(1,  20, 3, padding=3),  # Pad so that image dims are 2^n\n",
        "        nn.GELU(),\n",
        "        nn.MaxPool2d(2)\n",
        "    )  # Dims in 32x32 -> out 16x16\n",
        "\n",
        "    self.layer2 = nn.Sequential(\n",
        "        nn.Conv2d(20, 40, 3, padding=\"same\"),\n",
        "        nn.MaxPool2d(2)\n",
        "    )  # Dims in 16x16 -> out 8x8\n",
        "\n",
        "    self.layer3 = nn.Sequential(\n",
        "        nn.Conv2d(40, 60, 3, padding=\"same\"),\n",
        "        nn.GELU(),\n",
        "        nn.MaxPool2d(2)\n",
        "    )  # Dims in 8x8 -> out 4x4\n",
        "\n",
        "    self.layerMu = nn.Sequential(\n",
        "        nn.Conv2d(60, 120, 1),\n",
        "    )  # Dims in 4x4 -> out 4x4\n",
        "\n",
        "    self.layerSigma = nn.Sequential(\n",
        "        nn.Conv2d(60, 120, 1),\n",
        "    )  # Dims in 4x4 -> out 4x4\n",
        "  \n",
        "\n",
        "  def forward(self, x):  # Custom pytorch modules should follow this structure \n",
        "\n",
        "    x = self.layer1(x)\n",
        "\n",
        "    x = self.layer2(x)\n",
        "\n",
        "    x = self.layer3(x)\n",
        "\n",
        "    mu =  self.layerMu(x)\n",
        "\n",
        "    sigma = self.layerSigma(x)\n",
        "\n",
        "    return mu, sigma\n",
        "\n",
        "  \n",
        "  print('done')"
      ],
      "metadata": {
        "colab": {
          "base_uri": "https://localhost:8080/"
        },
        "id": "7CUYlTa91K2E",
        "outputId": "75b57ab7-f879-419a-8af1-18a1395ef1ad"
      },
      "execution_count": 92,
      "outputs": [
        {
          "output_type": "stream",
          "name": "stdout",
          "text": [
            "done\n"
          ]
        }
      ]
    },
    {
      "cell_type": "code",
      "source": [
        "class VAE_Decoder_Conv(nn.Module): \n",
        "  def __init__(self):\n",
        "    super(VAE_Decoder_Conv, self).__init__()\n",
        "\n",
        "    self.layerLatent = nn.Sequential(\n",
        "        nn.Conv2d(120, 60, 1),\n",
        "        nn.GELU(),\n",
        "        nn.Upsample(scale_factor=2, mode='nearest')\n",
        "    )  # Dims in 4x4 -> out 8x8\n",
        "\n",
        "    self.layer1 = nn.Sequential(\n",
        "        nn.Conv2d(60, 40, 3, padding='same'),\n",
        "        nn.GELU(),\n",
        "        nn.Upsample(scale_factor=2, mode='nearest')\n",
        "    )  # Dims in 8x8 -> out 16x16\n",
        "\n",
        "    self.layer2 = nn.Sequential(\n",
        "        nn.Conv2d(40, 20, 3, padding='same'),\n",
        "        nn.GELU(),\n",
        "        nn.Upsample(scale_factor=2, mode='nearest')\n",
        "    )  # Dims in 16x16 -> out 32x32\n",
        "\n",
        "    self.layer3 = nn.Sequential(\n",
        "        nn.Conv2d(20, 1, 3, padding='same'),\n",
        "        nn.GELU(),\n",
        "        nn.Sigmoid()\n",
        "    )  # Dims in 32x32 -> out 32x32\n",
        "\n",
        "  def forward(self, z, print_shape=False):  # Custom pytorch modules should follow this structure \n",
        "\n",
        "    z = self.layerLatent(z)\n",
        "    z = self.layer1(z)\n",
        "\n",
        "    z = self.layer2(z)\n",
        "\n",
        "    z = self.layer3(z)\n",
        "\n",
        "    return z[:,:,2:-2,2:-2]  # Crop the output"
      ],
      "metadata": {
        "id": "XZsioUds1V1l"
      },
      "execution_count": 93,
      "outputs": []
    },
    {
      "cell_type": "code",
      "source": [
        "class VAE_Conv(nn.Module):\n",
        "  def __init__(self, device):\n",
        "    '''\n",
        "    Class combines the Encoder and the Decoder with a VAE latent space.\n",
        "    '''\n",
        "    super(VAE_Conv, self).__init__()\n",
        "    self.device = device\n",
        "    self.encoder = VAE_Encoder_Conv()\n",
        "    self.decoder = VAE_Decoder_Conv()\n",
        "    self.distribution = torch.distributions.Normal(0, 1)  # Sample from N(0,1)\n",
        "\n",
        "  def sample_latent_space(self, mu, sigma):\n",
        "    z = mu + sigma * self.distribution.sample(mu.shape).to(self.device)  # Sample the latent distribution\n",
        "    kl_div = - 0.5 * (1 + sigma - mu**2 - sigma.exp()).sum()  # A term, which is required for regularisation\n",
        "    return z, kl_div\n",
        "\n",
        "  def forward(self, x):\n",
        "    '''\n",
        "    x - [float] A batch of images from the data-loader\n",
        "    '''\n",
        "\n",
        "    mu, sigma = self.encoder(x)  # Run the image through the Encoder\n",
        "    z, kl_div = self.sample_latent_space(mu, sigma)  # Take the output of the encoder and get the latent vector \n",
        "    z = self.decoder(z)  # Return the output of the decoder (the predicted image)\n",
        "    return z, kl_div\n",
        "\n",
        "print('done')"
      ],
      "metadata": {
        "colab": {
          "base_uri": "https://localhost:8080/"
        },
        "id": "PNHzYSK_6rDD",
        "outputId": "4be8f9ce-5352-4d2a-f42a-b7c60f6c2286"
      },
      "execution_count": 124,
      "outputs": [
        {
          "output_type": "stream",
          "name": "stdout",
          "text": [
            "done\n"
          ]
        }
      ]
    },
    {
      "cell_type": "code",
      "source": [
        "vae = VAE_Conv('cpu')\n",
        "\n",
        "images, labels = next(iter(train_loader))  # Get the first batch of images\n",
        "print(images[0].shape)  # Get the first image from the batch\n",
        "recon, _ = vae(images[10].unsqueeze(0))  # Are mu and sigma correct\n",
        "\n",
        "plt.figure(); plt.imshow(images[0].squeeze())\n",
        "plt.figure(); plt.imshow(recon.cpu().detach().squeeze())"
      ],
      "metadata": {
        "colab": {
          "base_uri": "https://localhost:8080/",
          "height": 548
        },
        "id": "JCBubvsAUTwT",
        "outputId": "44458449-f6e7-4441-fc94-437329fed853"
      },
      "execution_count": 125,
      "outputs": [
        {
          "output_type": "stream",
          "name": "stdout",
          "text": [
            "torch.Size([1, 28, 28])\n"
          ]
        },
        {
          "output_type": "execute_result",
          "data": {
            "text/plain": [
              "<matplotlib.image.AxesImage at 0x7fd3f42c9400>"
            ]
          },
          "metadata": {},
          "execution_count": 125
        },
        {
          "output_type": "display_data",
          "data": {
            "text/plain": [
              "<Figure size 432x288 with 1 Axes>"
            ],
            "image/png": "[encoded data removed]"
          },
          "metadata": {
            "needs_background": "light"
          }
        },
        {
          "output_type": "display_data",
          "data": {
            "text/plain": [
              "<Figure size 432x288 with 1 Axes>"
            ],
            "image/png": "[encoded data removed]"
          },
          "metadata": {
            "needs_background": "light"
          }
        }
      ]
    },
    {
      "cell_type": "code",
      "source": [
        "def train(autoencoder, data, kl_div_on=True, epochs=10, device='cpu', lr=1e-3):\n",
        "\n",
        "  set_seed(seed)\n",
        "  opt = torch.optim.Adam(autoencoder.parameters(), lr=lr, betas=(0.9, 0.999), weight_decay=0.5)\n",
        "\n",
        "  liveloss = PlotLosses()\n",
        "\n",
        "  for epoch in tqdm(range(0, epochs)):  # Run data over numerous epochs\n",
        "  #for epoch in (range(epochs)):\n",
        "    for batch, label in (data):  # Iterate over the batches of images and labels\n",
        "      batch = batch.to(device)  # Send batch of images to the GPU\n",
        "      opt.zero_grad()  # Set optimiser grad to 0\n",
        "      x_hat, KL = autoencoder(batch)  # Generate predicted images (x_hat) by running batch of images through autoencoder\n",
        "      #loss = ((batch - x_hat)**2).mean() + 0.01 * epoch * KL  # Calculate combined loss\n",
        "      loss = ((batch - x_hat)**2).sum() + KL\n",
        "      #print(loss)\n",
        "\n",
        "      loss.backward()  # Back-propagat\n",
        "      opt.step()  # Step the optimiser\n",
        "\n",
        "\n",
        "  return autoencoder  # Return the trained autoencoder (for later analysis)"
      ],
      "metadata": {
        "id": "80aM6jsY7Rqr"
      },
      "execution_count": 149,
      "outputs": []
    },
    {
      "cell_type": "code",
      "source": [
        "#Parameters\n",
        "seed = 42\n",
        "lr = 1e-3\n",
        "momentum = 0.5\n",
        "batch_size = 64\n",
        "test_batch_size = 1000\n",
        "n_epochs = 3"
      ],
      "metadata": {
        "id": "J5WDj-5I8B57"
      },
      "execution_count": 130,
      "outputs": []
    },
    {
      "cell_type": "code",
      "source": [
        "train_loader = DataLoader(dataset=train_dataset, batch_size=batch_size, shuffle=True)\n",
        "validation_loader = DataLoader(dataset=test_dataset, batch_size=1000, shuffle=False)"
      ],
      "metadata": {
        "id": "Qg_7Syx68qPn"
      },
      "execution_count": 118,
      "outputs": []
    },
    {
      "cell_type": "code",
      "source": [
        "device = 'cuda'\n",
        "\n",
        "vae_conv = VAE_Conv(device).to(device)\n",
        "vae_conv = train(vae_conv.train(True), train_loader, epochs=3, device=device, lr=lr)"
      ],
      "metadata": {
        "colab": {
          "base_uri": "https://localhost:8080/"
        },
        "id": "murTPKa57oQl",
        "outputId": "07b345c9-f505-4071-d095-fb0ab9de5061"
      },
      "execution_count": 150,
      "outputs": [
        {
          "output_type": "stream",
          "name": "stderr",
          "text": [
            "100%|██████████| 3/3 [00:40<00:00, 13.39s/it]\n"
          ]
        }
      ]
    },
    {
      "cell_type": "code",
      "source": [
        "images, labels = next(iter(validation_loader))  # Get the first batch of images\n",
        "# images, labels = next(iter(test_loader))  # Get the first batch of images\n",
        "print(images.shape)  # Get the first image from the batch\n",
        "vae_conv1 = vae_conv.eval()\n",
        "\n",
        "_, ax = plt.subplots(2, 5, figsize=[18.5, 6])\n",
        "for n, idx  in enumerate(torch.randint(0,images.shape[0], (5,))):\n",
        "  recon, _ = vae_conv1(images[idx].unsqueeze(0).cuda())\n",
        "  print(recon.shape)  # Are mu and sigma correct\n",
        "  ax[0, n].imshow(images[idx].squeeze())\n",
        "  ax[1, n].imshow(recon.cpu().detach().squeeze())"
      ],
      "metadata": {
        "colab": {
          "base_uri": "https://localhost:8080/",
          "height": 479
        },
        "id": "AhLpH8lHJiDn",
        "outputId": "482479fb-c576-4018-86af-31bc0baf4053"
      },
      "execution_count": 152,
      "outputs": [
        {
          "output_type": "stream",
          "name": "stdout",
          "text": [
            "torch.Size([1000, 1, 28, 28])\n",
            "torch.Size([1, 1, 28, 28])\n",
            "torch.Size([1, 1, 28, 28])\n",
            "torch.Size([1, 1, 28, 28])\n",
            "torch.Size([1, 1, 28, 28])\n",
            "torch.Size([1, 1, 28, 28])\n"
          ]
        },
        {
          "output_type": "display_data",
          "data": {
            "text/plain": [
              "<Figure size 1332x432 with 10 Axes>"
            ],
            "image/png": "[encoded data removed]"
          },
          "metadata": {
            "needs_background": "light"
          }
        }
      ]
    },
    {
      "cell_type": "code",
      "source": [],
      "metadata": {
        "id": "oOzMNHs2Zc1B"
      },
      "execution_count": 123,
      "outputs": []
    },
    {
      "cell_type": "code",
      "source": [],
      "metadata": {
        "id": "lSOcM9zYZhQ5"
      },
      "execution_count": null,
      "outputs": []
    },
    {
      "cell_type": "code",
      "source": [],
      "metadata": {
        "id": "ZctQOigIZhq-"
      },
      "execution_count": null,
      "outputs": []
    },
    {
      "cell_type": "markdown",
      "source": [
        "<br>\n",
        "\n",
        "---\n",
        "\n",
        "<br>"
      ],
      "metadata": {
        "id": "dCQJ1CIF42n-"
      }
    },
    {
      "cell_type": "markdown",
      "source": [
        "## **Q3** - Implement a **conditional GAN** that generates a user-defined class [25 points]\n",
        "\n",
        "Implement a GANs similar to the one we saw in class but with the following modifications:\n",
        "\n",
        "- Your new network should generate samples of any class defined by the user, that is, when you run your generator, you have to tell it which class you want it to generate. <br> *During the lectures we created a GAN that would generate samples of any class, we did not have control over which class would be generated. The exercise is to modify the network, training loops, and anything else you consider necessary, so that, once is trained, you can generate images of any particular class specified when you run your generative model.*\n",
        "\n",
        "- Expand your network to include **at least two** of the following modifications. Choose them based on what you think will result in better network performance (make sure to justify your choices well, argumenting why did you decide to include your particular modifications):\n",
        "  - Convolutional layers\n",
        "  - Data augmentation\n",
        "  - Different activations\n",
        "  - Different random seed\n",
        "  - Other network modifications that are well justified. <br> *You have freedom to choose what to do here, but your marks will depend not only on the correct implementation but also on the justification of your choices.*\n",
        "\n",
        "- Use your trained conditional GAN to **generate and plot 10 new samples of each class** by adding the class label to your random input (in any form you have implemented it).\n",
        "\n",
        "- You **DO NOT** have to optimise any hyperparameters, but if you had to choose three hyperparameters to optimise:\n",
        "  - Which ones would you choose and why?\n",
        "  - Would they be different from your choices in **Q2**?\n",
        "\n",
        "\n",
        "Generate information of your training process (liveloss plots, or any other data that will help you understand your results and analyse them in the last question **Q4**)."
      ],
      "metadata": {
        "id": "uXC9kTie3MRt"
      }
    },
    {
      "cell_type": "code",
      "source": [],
      "metadata": {
        "id": "1xqWM7y2Zd4S"
      },
      "execution_count": null,
      "outputs": []
    },
    {
      "cell_type": "code",
      "source": [
        "# your code here (add as many code blocks as you need)"
      ],
      "metadata": {
        "id": "JZrlUj7U4KRJ"
      },
      "execution_count": 101,
      "outputs": []
    },
    {
      "cell_type": "markdown",
      "source": [
        "text block for your answers"
      ],
      "metadata": {
        "id": "MfQoOjYS5cW6"
      }
    },
    {
      "cell_type": "code",
      "source": [
        "# you can reuse material from class, but explain very well modifications in the code and why you did them"
      ],
      "metadata": {
        "id": "p-kdMqU_4KRK"
      },
      "execution_count": 102,
      "outputs": []
    },
    {
      "cell_type": "markdown",
      "source": [
        "text block for your answers"
      ],
      "metadata": {
        "id": "jy0P8RgI5dCU"
      }
    },
    {
      "cell_type": "markdown",
      "source": [
        "<br>\n",
        "\n",
        "---\n",
        "\n",
        "<br>"
      ],
      "metadata": {
        "id": "XsytFvvd43ud"
      }
    },
    {
      "cell_type": "markdown",
      "source": [
        "## **Q4** - Analysis and comparison of results [20 points]\n",
        "\n",
        "Analyse and compare the results you have obtained with the two networks above.\n",
        "\n",
        "- Use the data you generated training the three networks above to discuss the results you have generated in **Q2** and **Q3**.\n",
        "- Is there a network that performs better than the other? Why do you think that is?\n",
        "- What could you do to improve your results on each of the networks you have implemented? ***\\[limit your answer to this question to 150 words\\]***\n",
        "\n",
        "**IMPORTANT NOTE**: even if you did not complete **Q2** and **Q3**, make sure to include a discussion with any partial results or other considerations regarding the performance of your implemented methods."
      ],
      "metadata": {
        "id": "7vkmbhgx4Zm9"
      }
    },
    {
      "cell_type": "code",
      "source": [
        "### your code here, if you need any (add as many code blocks as you need)"
      ],
      "metadata": {
        "id": "z6EL0Qm1wvfD"
      },
      "execution_count": 103,
      "outputs": []
    },
    {
      "cell_type": "markdown",
      "source": [
        "text block for your answers"
      ],
      "metadata": {
        "id": "oNNJTWp56MRU"
      }
    },
    {
      "cell_type": "markdown",
      "source": [
        "<br>\n",
        "\n",
        "---\n",
        "\n",
        "<br>"
      ],
      "metadata": {
        "id": "R79Gp-Yc45-m"
      }
    },
    {
      "cell_type": "markdown",
      "source": [
        "## **Q5** - Modify your dataset to create data imbalance and retrain **one** of your conditional models [20 points]\n",
        "\n",
        "Modify the `FashionMNIST` dataset to eliminate 90% of the images corresponding to one of the classes in the dataset (whichever you want).\n",
        "\n",
        "Now, **choose one of the two questions below (a or b)**:\n",
        "\n",
        "- **Q5-a) Retrain your conditional VAE from scratch** with this new dataset, and after training, use it to generate 10 images for the class you have decimated.\n",
        "\n",
        "- **Q5-b) Retrain your conditional GAN from scratch** with this new dataset, and after training, use it to generate 10 images for the class you have decimated.\n",
        "\n",
        "- Compare the results of this new images generated with the modified dataset with the original results from questions **Q2** or **Q3** (depending of whether you have chosen **Q5-a** or **Q5-b**). What do you observe? Describe your interpretation of this comparison."
      ],
      "metadata": {
        "id": "j4VacjK50Rcv"
      }
    },
    {
      "cell_type": "code",
      "source": [
        "# your code here (add as many code blocks as you need)"
      ],
      "metadata": {
        "id": "s6XhR5yT1P77"
      },
      "execution_count": 104,
      "outputs": []
    },
    {
      "cell_type": "markdown",
      "source": [
        "text block for your answers"
      ],
      "metadata": {
        "id": "Emu4gNjE3SXT"
      }
    },
    {
      "cell_type": "code",
      "source": [
        "### your code here, if you need any (add as many code blocks as you need)"
      ],
      "metadata": {
        "id": "Fd8MFq1E3Uxd"
      },
      "execution_count": 105,
      "outputs": []
    },
    {
      "cell_type": "markdown",
      "source": [
        "text block for your answers"
      ],
      "metadata": {
        "id": "uUA3TW6a3YVo"
      }
    }
  ]
}